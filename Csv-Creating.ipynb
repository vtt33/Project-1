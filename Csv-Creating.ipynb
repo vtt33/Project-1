{
 "cells": [
  {
   "cell_type": "code",
   "execution_count": 8,
   "id": "5686de7e-5e13-49c5-bff0-c68db00f8a47",
   "metadata": {},
   "outputs": [],
   "source": [
    "# Needed imports and key test\n",
    "import requests\n",
    "import json\n",
    "import pandas as pd\n",
    "from config import trade_key\n",
    "if trade_key == \"YOUR KEY HERE\":\n",
    "    print(\"Please configure your config.py file\")"
   ]
  },
  {
   "cell_type": "code",
   "execution_count": 5,
   "id": "a032d933-f725-487e-a2c1-a82ffe39fb1c",
   "metadata": {},
   "outputs": [],
   "source": [
    "#Annual trade data for the years 2013-2018\n",
    "years = ['2013','2014','2015','2016','2017','2018']\n",
    "for year in years:\n",
    "    annual_import = f'https://api.census.gov/data/2018/intltrade/imp_exp?get=IMPALL{year},COUNTRY&SCHEDULE&key={trade_key}'\n",
    "    annual_data = requests.get(annual_import).json()\n",
    "    df = pd.DataFrame(data=annual_data)\n",
    "    df_header =df[1:]\n",
    "    header = df.iloc[0]\n",
    "    df_header.columns = header\n",
    "    df_header.reset_index(drop=True, inplace=True)\n",
    "    df_header.to_csv(f'Annual Trade Data\\Imports\\General Imports Customs Value, All Commodities {year}.csv',index=False)\n",
    "    \n",
    "    annual_export = f'https://api.census.gov/data/2018/intltrade/imp_exp?get=EXPALL{year},COUNTRY&SCHEDULE&key={trade_key}'\n",
    "    annual_data = requests.get(annual_export).json()\n",
    "    df = pd.DataFrame(data=annual_data)\n",
    "    df_header =df[1:]\n",
    "    header = df.iloc[0]\n",
    "    df_header.columns = header\n",
    "    df_header.reset_index(drop=True, inplace=True)\n",
    "    df_header.to_csv(f'Annual Trade Data\\Exports\\Total Export Value All Commodities {year}.csv',index=False)\n",
    "    "
   ]
  },
  {
   "cell_type": "code",
   "execution_count": 84,
   "id": "7b9ba233-3805-4837-8703-75a200c73ecf",
   "metadata": {},
   "outputs": [],
   "source": [
    "# Variables for the top categories \n",
    "top_hs2_codes = ['84','87','85','88','27','90']\n",
    "years = ['2013','2014','2015','2016','2017','2018']\n",
    "header = ['E_COMMODITY_LDESC',\n",
    "  'ALL_VAL_YR',\n",
    "  'DIST_NAME',\n",
    "  'CTY_NAME',\n",
    "  'time',\n",
    "  'COMM_LVL',\n",
    "  'E_COMMODITY']\n",
    "base_export_url = 'https://api.census.gov/data/timeseries/intltrade/exports/hs?get=E_COMMODITY_LDESC,ALL_VAL_YR,DIST_NAME'"
   ]
  },
  {
   "cell_type": "code",
   "execution_count": null,
   "id": "5f52e390-62f2-4e6c-9e7e-43883845de29",
   "metadata": {},
   "outputs": [],
   "source": [
    "for code in top_hs2_codes:\n",
    "    top_data = []\n",
    "    for year in years:\n",
    "        top_export_url = f'{base_export_url},CTY_NAME&time={year}-12&COMM_LVL=HS2&E_COMMODITY={code}&key={trade_key}'\n",
    "        top_export_data = requests.get(top_export_url).json()\n",
    "        top_data.append(top_export_data[1])\n",
    "    export_df = pd.DataFrame(data=top_data)\n",
    "    export_df.columns = header\n",
    "    export_df.to_csv(f'Top Products\\Exports\\{top_export_data[1][0]}',index =False)\n",
    "\n",
    "#    Rename files to ease file calling\n",
    "#    File 1 should stay as is\n",
    "#    File 2 rename to \"ELECTRICAL MACHINERY AND EQUIPMENT\"\n",
    "#    File 3 rename to \"MINERAL FUELS, MINERAL OILS AND PRODUCTS OF THEIR DISTILLATION\"\n",
    "#    File 4 rename to \"NUCLEAR REACTORS, BOILERS, MACHINERY AND MECHANICAL APPLIANCES\"\n",
    "#    File 5 rename to \"OPTICAL, PHOTOGRAPHIC, CINEMATOGRAPHIC, MEASURING, CHECKING, PRECISION, MEDICAL OR SURGICAL INSTRUMENTS AND APPARATUS; PARTS AND ACCESSORIES THEREOF\"\n",
    "#    File 6 rename to \"VEHICLES, OTHER THAN RAILWAY OR TRAMWAY ROLLING STOCK, AND PARTS THEREOF\"\n"
   ]
  },
  {
   "cell_type": "code",
   "execution_count": 7,
   "id": "6978a8b5-1eae-43bd-bd28-9151fe46fcb0",
   "metadata": {},
   "outputs": [
    {
     "data": {
      "text/plain": [
       "'\\n    Rename files to ease file calling\\n    File 1 should stay as is\\n    File 2 rename to \"ELECTRICAL MACHINERY AND EQUIPMENT\"\\n    File 3 rename to \"MINERAL FUELS, MINERAL OILS AND PRODUCTS OF THEIR DISTILLATION\"\\n    File 4 rename to \"NUCLEAR REACTORS, BOILERS, MACHINERY AND MECHANICAL APPLIANCES\"\\n    File 5 rename to \"OPTICAL, PHOTOGRAPHIC, CINEMATOGRAPHIC, MEASURING, CHECKING, PRECISION, MEDICAL OR SURGICAL INSTRUMENTS AND APPARATUS; PARTS AND ACCESSORIES THEREOF\"\\n    File 6 rename to \"VEHICLES, OTHER THAN RAILWAY OR TRAMWAY ROLLING STOCK, AND PARTS THEREOF\"\\n'"
      ]
     },
     "execution_count": 7,
     "metadata": {},
     "output_type": "execute_result"
    }
   ],
   "source": [
    "header = ['I_ENDUSE_LDESC','GEN_VAL_YR','I_COMMODITY', 'time', 'COMM_LVL']\n",
    "top_hs2_codes = ['84','87','85','88','27','90']\n",
    "for code in top_hs2_codes:\n",
    "    top_data = []\n",
    "    for year in years:\n",
    "        top_import_url = f'https://api.census.gov/data/timeseries/intltrade/imports/hs?get=I_COMMODITY_LDESC,GEN_VAL_YR&I_COMMODITY={code}&time={year}-12&COMM_LVL=HS2&key={trade_key}'\n",
    "        top_import_data = requests.get(top_import_url).json()\n",
    "        top_data.append(top_import_data[1])\n",
    "    import_df = pd.DataFrame(data=top_data)\n",
    "    import_df.columns = header\n",
    "    import_df.to_csv(f'Top Products\\Imports\\{top_import_data[1][0]}.csv',index =False)\n",
    "\n",
    "#    Rename files to ease file calling\n",
    "#    File 1 should stay as is\n",
    "#    File 2 rename to \"ELECTRICAL MACHINERY AND EQUIPMENT AND PARTS THEREOF\"\n",
    "#    File 3 rename to \"MINERAL FUELS, MINERAL OILS AND PRODUCTS OF THEIR DISTILLATION\"\n",
    "#    File 4 rename to \"NUCLEAR REACTORS, BOILERS, MACHINERY AND MECHANICAL APPLIANCES\"\n",
    "#    File 5 rename to \"OPTICAL, PHOTOGRAPHIC, CINEMATOGRAPHIC, MEASURING, CHECKING, PRECISION, MEDICAL OR SURGICAL INSTRUMENTS AND APPARATUS; PARTS AND ACCESSORIES THEREOF\"\n",
    "#    File 6 rename to \"VEHICLES, OTHER THAN RAILWAY, AND PARTS AND ACCESSORIES THEREOF\"\n"
   ]
  },
  {
   "cell_type": "code",
   "execution_count": null,
   "id": "8e9c044b-1986-4a4d-9108-978a2c75d09c",
   "metadata": {},
   "outputs": [],
   "source": []
  }
 ],
 "metadata": {
  "kernelspec": {
   "display_name": "Python 3 (ipykernel)",
   "language": "python",
   "name": "python3"
  },
  "language_info": {
   "codemirror_mode": {
    "name": "ipython",
    "version": 3
   },
   "file_extension": ".py",
   "mimetype": "text/x-python",
   "name": "python",
   "nbconvert_exporter": "python",
   "pygments_lexer": "ipython3",
   "version": "3.11.4"
  }
 },
 "nbformat": 4,
 "nbformat_minor": 5
}
