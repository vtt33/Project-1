{
 "cells": [
  {
   "cell_type": "code",
   "execution_count": 6,
   "id": "5686de7e-5e13-49c5-bff0-c68db00f8a47",
   "metadata": {},
   "outputs": [],
   "source": [
    "import requests\n",
    "import json\n",
    "import pandas as pd\n",
    "from config import trade_key\n",
    "if trade_key == \"YOUR KEY HERE\":\n",
    "    print(\"Please configure your config.py file\")"
   ]
  },
  {
   "cell_type": "code",
   "execution_count": 28,
   "id": "715e33f5-eb42-452c-ace3-b5f655612936",
   "metadata": {},
   "outputs": [],
   "source": [
    "# Annual\n",
    "annual = f'https://api.census.gov/data/2018/intltrade/imp_exp?get=IMPALL2013,COUNTRY&SCHEDULE&key={trade_key}'\n",
    "annual_data = requests.get(annual).json()"
   ]
  },
  {
   "cell_type": "code",
   "execution_count": 29,
   "id": "a032d933-f725-487e-a2c1-a82ffe39fb1c",
   "metadata": {},
   "outputs": [
    {
     "data": {
      "text/html": [
       "<div>\n",
       "<style scoped>\n",
       "    .dataframe tbody tr th:only-of-type {\n",
       "        vertical-align: middle;\n",
       "    }\n",
       "\n",
       "    .dataframe tbody tr th {\n",
       "        vertical-align: top;\n",
       "    }\n",
       "\n",
       "    .dataframe thead th {\n",
       "        text-align: right;\n",
       "    }\n",
       "</style>\n",
       "<table border=\"1\" class=\"dataframe\">\n",
       "  <thead>\n",
       "    <tr style=\"text-align: right;\">\n",
       "      <th></th>\n",
       "      <th>IMPALL2013</th>\n",
       "      <th>COUNTRY</th>\n",
       "      <th>SCHEDULE</th>\n",
       "    </tr>\n",
       "  </thead>\n",
       "  <tbody>\n",
       "    <tr>\n",
       "      <th>0</th>\n",
       "      <td>45514058</td>\n",
       "      <td>Afghanistan</td>\n",
       "      <td>5310</td>\n",
       "    </tr>\n",
       "    <tr>\n",
       "      <th>1</th>\n",
       "      <td>22776586</td>\n",
       "      <td>Albania</td>\n",
       "      <td>4810</td>\n",
       "    </tr>\n",
       "    <tr>\n",
       "      <th>2</th>\n",
       "      <td>4830871545</td>\n",
       "      <td>Algeria</td>\n",
       "      <td>7210</td>\n",
       "    </tr>\n",
       "    <tr>\n",
       "      <th>3</th>\n",
       "      <td>1428673</td>\n",
       "      <td>Andorra</td>\n",
       "      <td>4271</td>\n",
       "    </tr>\n",
       "    <tr>\n",
       "      <th>4</th>\n",
       "      <td>8742942417</td>\n",
       "      <td>Angola</td>\n",
       "      <td>7620</td>\n",
       "    </tr>\n",
       "  </tbody>\n",
       "</table>\n",
       "</div>"
      ],
      "text/plain": [
       "0  IMPALL2013      COUNTRY SCHEDULE\n",
       "0    45514058  Afghanistan     5310\n",
       "1    22776586      Albania     4810\n",
       "2  4830871545      Algeria     7210\n",
       "3     1428673      Andorra     4271\n",
       "4  8742942417       Angola     7620"
      ]
     },
     "execution_count": 29,
     "metadata": {},
     "output_type": "execute_result"
    }
   ],
   "source": [
    "df = pd.DataFrame(data=annual_data)\n",
    "df_header =df[1:]\n",
    "header = df.iloc[0]\n",
    "df_header.columns = header\n",
    "df_header.reset_index(drop=True, inplace=True)\n",
    "df_header.head()"
   ]
  },
  {
   "cell_type": "code",
   "execution_count": 30,
   "id": "3a3cb4ed-c226-4d8d-8b5a-cbf95208c942",
   "metadata": {},
   "outputs": [],
   "source": [
    "df_header.to_csv('Annual Trade Data\\Imports\\General Imports Customs Value, All Commodities 2013',index=False)"
   ]
  },
  {
   "cell_type": "code",
   "execution_count": null,
   "id": "7b9ba233-3805-4837-8703-75a200c73ecf",
   "metadata": {},
   "outputs": [],
   "source": []
  }
 ],
 "metadata": {
  "kernelspec": {
   "display_name": "Python 3 (ipykernel)",
   "language": "python",
   "name": "python3"
  },
  "language_info": {
   "codemirror_mode": {
    "name": "ipython",
    "version": 3
   },
   "file_extension": ".py",
   "mimetype": "text/x-python",
   "name": "python",
   "nbconvert_exporter": "python",
   "pygments_lexer": "ipython3",
   "version": "3.11.4"
  }
 },
 "nbformat": 4,
 "nbformat_minor": 5
}
