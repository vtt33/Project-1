{
 "cells": [
  {
   "cell_type": "code",
   "execution_count": null,
   "id": "95616b84-1f71-485b-bc84-0d2fa571a877",
   "metadata": {},
   "outputs": [],
   "source": [
    "###U.S. Trade Presentation\n"
   ]
  },
  {
   "cell_type": "code",
   "execution_count": null,
   "id": "a0a5397a-c6f6-4f1a-ae6d-b71c641fc26a",
   "metadata": {},
   "outputs": [],
   "source": [
    "# Dependencies\n",
    "import pandas as pd\n",
    "import numpy as np\n",
    "import requests\n",
    "import json\n",
    "\n",
    "\n",
    "# Create a file path\n",
    "heart_rate_data = Path(\"../Resources/resting_heart_rate.csv\")\n",
    "\n",
    "# Read in the data. \n",
    "df = pd.read_csv(heart_rate_data)\n",
    "df.head()\n",
    "\n"
   ]
  }
 ],
 "metadata": {
  "kernelspec": {
   "display_name": "Python 3 (ipykernel)",
   "language": "python",
   "name": "python3"
  },
  "language_info": {
   "codemirror_mode": {
    "name": "ipython",
    "version": 3
   },
   "file_extension": ".py",
   "mimetype": "text/x-python",
   "name": "python",
   "nbconvert_exporter": "python",
   "pygments_lexer": "ipython3",
   "version": "3.12.4"
  }
 },
 "nbformat": 4,
 "nbformat_minor": 5
}
